{
 "cells": [
  {
   "cell_type": "markdown",
   "metadata": {},
   "source": [
    "# Week 2 - Exercise\n"
   ]
  },
  {
   "cell_type": "markdown",
   "metadata": {},
   "source": [
    "## A few words about modules and functions\n",
    "- Module: a group of highly related classes/functions. (Usually a something.py file) \n",
    "    - import mymodule - load the module\n",
    "    - usage: mymodule.myfunction(); mymodule.myclass()\n",
    "- from mymodule import myclass – load the myclass\n",
    "    - Usage of class defined in the module: myclass()\n",
    "- from mymodule import * - load everything\n",
    "- the difference is the namespace (like in c++)\n",
    "- modules used here:\n",
    "    - the SeqIO module of Biopython helps to read sequences easily\n",
    "    - numpy module can do the math\n",
    "    - matplotlib makes nice plots, similar to Matlab\n",
    "- functions can be implemented with the \"def\" command using only indenting (tabs) to mark its beginning and end\n",
    "- functions can be called later by their name, giving them the appropriate parameters\n"
   ]
  },
  {
   "cell_type": "markdown",
   "metadata": {},
   "source": [
    "## About NumPy\n",
    "- Scientific module for python: (https://numpy.org/devdocs/user/quickstart.html)\n",
    "Main type is the multidimensional array\n",
    "- Table of elements of same type (usually numbers). Basically matrices\n",
    "    - Axes: „dimensions”\n",
    "    - Rank: number of dimensions"
   ]
  },
  {
   "cell_type": "markdown",
   "metadata": {},
   "source": [
    "# Dot plot generating code"
   ]
  },
  {
   "cell_type": "code",
   "execution_count": null,
   "metadata": {
    "scrolled": true
   },
   "outputs": [],
   "source": [
    "from Bio import SeqIO\n",
    "from copy import deepcopy\n",
    "import numpy as np\n",
    "import matplotlib.pyplot as plt\n",
    "from copy import deepcopy\n",
    "import requests\n",
    "\n",
    "\n",
    "\n",
    "def dotplot(seq1name, seq2name=None,  cutoff=15, wordsize=20, isreversecompl=False):\n",
    "    '''\n",
    "    Draw a dotplot of two sequences. If isreversecompl=True, then \n",
    "    the first sequence is compared to it's reverse complement.\n",
    "    \n",
    "    :param seq1name:       path to the first sequence. \n",
    "                           The sequence file is expected to be a valid fasta file. \n",
    "    :param seq2name:       path to the second sequence. \n",
    "                           The sequence file is expected to be a valid fasta file. \n",
    "    :param cutoff:         the treshold defining whether a dot should be plotted\n",
    "    :param wordsize:       window size\n",
    "    :param isreversecompl: If True, then the function plots the sequence 1 against\n",
    "                           it's reverse complement. Default is False. Note if it is\n",
    "                           False, then seqname2 is ignored.  \n",
    "    '''\n",
    "    # scoring scheme\n",
    "    match_score = 5\n",
    "    mis_match_score = -4 \n",
    "\n",
    "    # read in the fasta files\n",
    "    for seq1obj in SeqIO.parse(seq1name, \"fasta\"):\n",
    "        print(seq1obj.id, \": \", seq1obj.seq)\n",
    "    \n",
    "    if not isreversecompl:\n",
    "        for seq2obj in SeqIO.parse(seq2name, \"fasta\"):\n",
    "            print(seq2obj.id, \": \", seq2obj.seq)\n",
    "\n",
    "    if isreversecompl: # make the reverse complement of the sequence to find stem loops\n",
    "        seq2obj=deepcopy(seq1obj)\n",
    "        seq2obj.seq=seq1obj.seq.reverse_complement()\n",
    "        seq2obj.id=seq1obj.id+' reverse complement'\n",
    "        print(seq2obj.id, \": \", seq2obj.seq)\n",
    "\n",
    "    seq1=seq1obj.seq.lower()\n",
    "    seq2=seq2obj.seq.lower()\n",
    "    nucleotide_list=('c', 'g', 't', 'a')\n",
    "    matrix=np.zeros((len(seq1), len(seq2)), dtype=int) # store the dots here\n",
    "    matrix2=np.zeros((len(seq1), len(seq2)), dtype=int) # store the match values here\n",
    "    for i in range(0,len(seq1)-wordsize+1):\n",
    "        for j in range(0, len(seq2)-wordsize+1):\n",
    "            score=0\n",
    "            for k in range(0, wordsize):\n",
    "                if seq1[i+k]==seq2[j+k] and seq1[i+k] in nucleotide_list and seq2[j+k] in nucleotide_list: #if there is a match and it is a nucleotide\n",
    "                    score+=match_score # simplest scoring scheme: match=+1 mismatch=0\n",
    "                else:\n",
    "                    score+=mis_match_score\n",
    "            if score >= cutoff:\n",
    "                matrix[i+int(wordsize/2),j+int(wordsize/2)]=1 # dot in the middle of the word if the score is not lower then the cut-off score\n",
    "            matrix2[i + int(wordsize / 2), j + int(wordsize / 2)] = score # store the scores\n",
    "\n",
    "    # visualization:\n",
    "    # dotplot itself\n",
    "    plt.figure(1)\n",
    "    plt.pcolor(matrix, cmap=plt.cm.binary)\n",
    "    plt.xlabel(seq2obj.id)\n",
    "    plt.ylabel(seq1obj.id)\n",
    "    plt.title('Dotplot: cut-off score= ' + str(cutoff) + ', world size=' + str(wordsize))\n",
    "    plt.colorbar()\n",
    "    #heatmap\n",
    "    plt.figure(2)\n",
    "    plt.pcolor(matrix2)\n",
    "    plt.xlabel(seq2obj.id)\n",
    "    plt.ylabel(seq1obj.id)\n",
    "    plt.title('Dotplot: cut-off score= ' + str(cutoff) + ', world size=' + str(wordsize))\n",
    "    plt.colorbar()\n",
    "\n",
    "    plt.show()\n"
   ]
  },
  {
   "cell_type": "code",
   "execution_count": null,
   "metadata": {},
   "outputs": [],
   "source": [
    "# Download sequence 1 from GitHub\n",
    "sequence_1_url = 'https://raw.githubusercontent.com/nbrg-ppcu/Introduction_to_bioinfo/dev/data/dot-hydro-plot/task_seq1.fasta'\n",
    "sequence_1 = 'task_seq1.fasta'\n",
    "\n",
    "response = requests.get(sequence_1_url)\n",
    "with open(sequence_1, 'wb') as file:\n",
    "    file.write(response.content)\n",
    "\n",
    "# Download sequence 2 from GitHub\n",
    "sequence_2_url = 'https://raw.githubusercontent.com/nbrg-ppcu/Introduction_to_bioinfo/dev/data/dot-hydro-plot/task_seq2.fasta'\n",
    "sequence_2 = 'task_seq2.fasta'\n",
    "\n",
    "response = requests.get(sequence_2_url)\n",
    "with open(sequence_2, 'wb') as file:\n",
    "    file.write(response.content)\n",
    "\n",
    "# Download sequence 3 from GitHub\n",
    "sequence_3_url = 'https://raw.githubusercontent.com/nbrg-ppcu/Introduction_to_bioinfo/dev/data/dot-hydro-plot/task_seq3.fasta'\n",
    "sequence_3 = 'task_seq3.fasta'\n",
    "\n",
    "response = requests.get(sequence_3_url)\n",
    "with open(sequence_3, 'wb') as file:\n",
    "    file.write(response.content)\n",
    "\n",
    "# Download sequence 4 from GitHub\n",
    "sequence_4_url = 'https://raw.githubusercontent.com/nbrg-ppcu/Introduction_to_bioinfo/dev/data/dot-hydro-plot/task_seq4.fasta'\n",
    "sequence_4 = 'task_seq4.fasta'\n",
    "\n",
    "response = requests.get(sequence_4_url)\n",
    "with open(sequence_4, 'wb') as file:\n",
    "    file.write(response.content)\n",
    "\n",
    "# Now you can use the sequences as needed, for example in a dotplot or other analysis\n",
    "# dotplot(sequence_1, sequence_2, ...) or other functions\n"
   ]
  },
  {
   "cell_type": "markdown",
   "metadata": {},
   "source": [
    "### Using the dotplot function:\n",
    "- you can run the program by calling the function\n",
    "    - the 5th parameter is TRUE if we search stem loops, FALSE otherwise (default is FALSE)"
   ]
  },
  {
   "cell_type": "code",
   "execution_count": null,
   "metadata": {},
   "outputs": [],
   "source": [
    "#exampe for the dotplot - comparing the two sequence against eachother\n",
    "dotplot(sequence_1, sequence_2, cutoff=3, wordsize=2) #change parameters\n",
    "#example for comparing the sequence to itself (i.e. finding repeats)\n",
    "dotplot(sequence_1, sequence_1, cutoff=3, wordsize=2, isreversecompl=False)\n",
    "#example for comparing the sequence to its reverse complement \n",
    "dotplot(sequence_1, None, cutoff=3, wordsize=2, isreversecompl=True)"
   ]
  },
  {
   "cell_type": "markdown",
   "metadata": {},
   "source": [
    "# Exercise: Use dotplot function and the sequences (sequence_1, sequence_2, sequence_3, sequence_4) to answer the following questions:\n",
    "\n",
    "### HINT: try to use the heat map for finding 'the optimal' tresholds\n",
    "### HINT: modify the window size, and cut-off score parameters to get plots with all the important features, but with minimal noise\n",
    "### SUBMIT: \n",
    "- your python code with the parameters, \n",
    "- the generated plots,\n",
    "- short explanation of your results (in markdown cells)\n",
    "  "
   ]
  },
  {
   "cell_type": "markdown",
   "metadata": {},
   "source": [
    "### 1.: Which are the 2 most similar sequences and why?"
   ]
  },
  {
   "cell_type": "markdown",
   "metadata": {},
   "source": [
    "###  1. Answer:"
   ]
  },
  {
   "cell_type": "code",
   "execution_count": null,
   "metadata": {},
   "outputs": [],
   "source": [
    "#your code"
   ]
  },
  {
   "cell_type": "markdown",
   "metadata": {},
   "source": [
    "your solution"
   ]
  },
  {
   "cell_type": "markdown",
   "metadata": {},
   "source": [
    "### 2.: Are there any repeated regions regions in the sequences? In which one(s)? Where are these regions, how many repeats are there?"
   ]
  },
  {
   "cell_type": "markdown",
   "metadata": {},
   "source": [
    "###  2. Answer:"
   ]
  },
  {
   "cell_type": "code",
   "execution_count": null,
   "metadata": {},
   "outputs": [],
   "source": [
    "#your code"
   ]
  },
  {
   "cell_type": "markdown",
   "metadata": {},
   "source": [
    "your solution"
   ]
  },
  {
   "cell_type": "markdown",
   "metadata": {},
   "source": [
    "### 3.: Are there any stem loop regions in the sequences? In which one(s)? (Usually nearly perfect match is required in stem loops in order to stabilise their structure.) Where are these regions? What is a stem loop?"
   ]
  },
  {
   "cell_type": "markdown",
   "metadata": {},
   "source": [
    "###  3. Answer:"
   ]
  },
  {
   "cell_type": "code",
   "execution_count": null,
   "metadata": {},
   "outputs": [],
   "source": [
    "#your code"
   ]
  },
  {
   "cell_type": "markdown",
   "metadata": {},
   "source": [
    "your solution"
   ]
  },
  {
   "cell_type": "markdown",
   "metadata": {},
   "source": [
    "### 4.: How is sequence_4 related to the other sequences? What could be its origin?  "
   ]
  },
  {
   "cell_type": "markdown",
   "metadata": {},
   "source": [
    "###  4. Answer:"
   ]
  },
  {
   "cell_type": "code",
   "execution_count": null,
   "metadata": {},
   "outputs": [],
   "source": [
    "#your code"
   ]
  },
  {
   "cell_type": "markdown",
   "metadata": {},
   "source": [
    "your solution"
   ]
  }
 ],
 "metadata": {
  "kernelspec": {
   "display_name": "Python 3",
   "language": "python",
   "name": "python3"
  },
  "language_info": {
   "codemirror_mode": {
    "name": "ipython",
    "version": 3
   },
   "file_extension": ".py",
   "mimetype": "text/x-python",
   "name": "python",
   "nbconvert_exporter": "python",
   "pygments_lexer": "ipython3",
   "version": "3.10.13"
  }
 },
 "nbformat": 4,
 "nbformat_minor": 4
}
