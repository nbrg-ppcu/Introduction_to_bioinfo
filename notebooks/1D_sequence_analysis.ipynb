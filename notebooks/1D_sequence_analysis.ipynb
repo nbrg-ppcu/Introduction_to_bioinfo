{
 "cells": [
  {
   "cell_type": "markdown",
   "metadata": {},
   "source": [
    "# Practice 02"
   ]
  },
  {
   "cell_type": "markdown",
   "metadata": {},
   "source": [
    "## A few words about modules and functions\n",
    "- Module: a group of highly related classes/functions. (Usually a something.py file) \n",
    "- import mymodule – load the module\n",
    "    - usage: mymodule.myfunction(); mymodule.myclass()\n",
    "- from mymodule import myclass – load the myclass\n",
    "    - Usage of class defined in the module: myclass()\n",
    "- from mymodule import * - load everything\n",
    "- Difference is the namespace (like in c++)\n",
    "- modules used here:\n",
    "    - the SeqIO module of Biopython helps to easily read sequences\n",
    "    - the numpy module can do the math\n",
    "    - the matplotlib makes nice plots, similar to Matlab\n",
    "- functions can be implemented with the \"def\" command using only indenting (tabs) to mark its beginning and end\n",
    "- functions can be called later by their name, giving them the appropriate parameters\n"
   ]
  },
  {
   "cell_type": "markdown",
   "metadata": {},
   "source": [
    "## About NumPy\n",
    "- Scientific module for python: (https://numpy.org/devdocs/user/quickstart.html)\n",
    "Main type is the multidimensional array)\n",
    "- 'Matrix' of elements of same type (usually numbers). Basically 'tables'.\n",
    "    - Axes: „dimensions”\n",
    "    - Rank: number of dimensions"
   ]
  },
  {
   "cell_type": "markdown",
   "metadata": {},
   "source": [
    "# Hydrophobicity plot generating code\n"
   ]
  },
  {
   "cell_type": "code",
   "execution_count": null,
   "metadata": {},
   "outputs": [],
   "source": [
    "from Bio import SeqIO\n",
    "import numpy as np\n",
    "import matplotlib.pyplot as plt\n",
    "import requests\n",
    "\n",
    "def hydrophobicity(seqname, valuefilename, wordsize):\n",
    "    '''\n",
    "    Draw the hydrophilicity plot of a protein. \n",
    "    \n",
    "    :param seq1name:       path to the first sequence. \n",
    "                           The sequence file is expected to be a valid fasta file. \n",
    "    :param valuefilename:  This files describes the hydrophobicity of an amino acid.                           \n",
    "    :param wordsize:       window size\n",
    "\n",
    "    '''\n",
    "    # read in hydrophobicity values to dictionary\n",
    "    hphobdict = {}\n",
    "    myfile = open(valuefilename, 'r')\n",
    "    for line in myfile:\n",
    "        line=line.replace(\"\\n\",\"\")\n",
    "        linelist=line.split(\"\\t\")\n",
    "        hphobdict[linelist[0]]=float(linelist[1])\n",
    "    myfile.close()\n",
    "    # print(hphobdict)\n",
    "\n",
    "    # read in the fasta file to seq object\n",
    "    for seqobj in SeqIO.parse(seqname, \"fasta\"):\n",
    "        print(seqobj.id, \": \", seqobj.seq)\n",
    "    seq = seqobj.seq.upper()\n",
    "\n",
    "    values = np.zeros(len(seq), dtype=float)  # store the values here\n",
    "    #window sliding\n",
    "    for i in range(0, len(seq) - wordsize + 1):\n",
    "        value_act=0\n",
    "        for k in range(0, wordsize):\n",
    "            value_act=value_act+hphobdict[seq[i+k]]\n",
    "        values[i + int(wordsize / 2)]=value_act/wordsize # put average hydrophobicity to the middle of the window\n",
    "\n",
    "    # visualization:\n",
    "    plt.figure(1)\n",
    "    plt.plot(values, 'b-')\n",
    "    plt.xlabel(\"Residue position\")\n",
    "    plt.ylabel(\"Hydrophobicity\")\n",
    "    plt.xlim([0, len(seq)])\n",
    "    plt.grid(True)\n",
    "    plt.title('Hydrophobicity plot: ' + seqobj.id + ', word size=' + str(wordsize))\n",
    "    plt.show()\n",
    "\n"
   ]
  },
  {
   "cell_type": "markdown",
   "metadata": {},
   "source": [
    "### Data Retrieval and Hydrophobicity Plot Generation\n",
    "\n",
    "In this section, we download the necessary input files from a GitHub repository to analyze the hydrophobicity of a protein sequence. Specifically, we are working with the **CNR1_Human.fasta** file, which contains the amino acid sequence for the cannabinoid receptor 1, and the **Kyte_Doolittle_hydrophob.txt** file, which provides the Kyte-Doolittle hydrophobicity scale for each amino acid.\n",
    "\n",
    "#### Steps:\n",
    "1. **Downloading Data from GitHub:**\n",
    "   - We use Python's `requests` library to download the FASTA sequence and Kyte-Doolittle scale files directly from a GitHub repository.\n",
    "   - The URLs of these files are retrieved from the repository and the files are saved locally in the Colab environment.\n",
    "\n",
    "2. **Plotting Hydrophobicity:**\n",
    "   - After downloading the files, we pass them as input to the `hydrophobicity()` function.\n",
    "   - This function generates a hydrophobicity plot using the Kyte-Doolittle scale with a window size of 2, which gives us insights into the hydrophobic regions of the protein.\n"
   ]
  },
  {
   "cell_type": "code",
   "execution_count": null,
   "metadata": {},
   "outputs": [],
   "source": [
    "# Download sequence file from GitHub\n",
    "sequence_url = 'https://raw.githubusercontent.com/nbrg-ppcu/Introduction_to_bioinfo/dev/data/dot-hydro-plot/CNR1_Human.fasta'\n",
    "sequence_file = 'CNR1_Human.fasta'\n",
    "\n",
    "response = requests.get(sequence_url)\n",
    "with open(sequence_file, 'wb') as file:\n",
    "    file.write(response.content)\n",
    "\n",
    "# Download Kyte-Doolittle scale file from GitHub\n",
    "kyte_doolittle_url = 'https://raw.githubusercontent.com/nbrg-ppcu/Introduction_to_bioinfo/dev/data/dot-hydro-plot/Kyte_Doolittle_hydrophob.txt'\n",
    "kyte_doolittle_file = 'Kyte_Doolittle_hydrophob.txt'\n",
    "\n",
    "response = requests.get(kyte_doolittle_url)\n",
    "with open(kyte_doolittle_file, 'wb') as file:\n",
    "    file.write(response.content)\n",
    "\n",
    "\n",
    "\n",
    "\n",
    "\n"
   ]
  },
  {
   "cell_type": "code",
   "execution_count": null,
   "metadata": {},
   "outputs": [],
   "source": [
    "# Draw the plot\n",
    "hydrophobicity(sequence_file, kyte_doolittle_file, wordsize=2)"
   ]
  },
  {
   "cell_type": "markdown",
   "metadata": {},
   "source": [
    "### Exercise: \n",
    "- Change the word size (the third parameter at the calling of the function). What trends do you obtain?"
   ]
  },
  {
   "cell_type": "markdown",
   "metadata": {},
   "source": [
    "# Dot plot generating code"
   ]
  },
  {
   "cell_type": "code",
   "execution_count": null,
   "metadata": {},
   "outputs": [],
   "source": [
    "from Bio import SeqIO\n",
    "import numpy as np\n",
    "import matplotlib.pyplot as plt\n",
    "from copy import deepcopy\n",
    "\n",
    "def dotplot(seq1name, seq2name=None,  cutoff=15, wordsize=20, isreversecompl=False):\n",
    "    '''\n",
    "    Draw a dotplot of two sequences. If isreversecompl=True, then \n",
    "    the first sequence is compared to it's reverse complement.\n",
    "    \n",
    "    :param seq1name:       path to the first sequence. \n",
    "                           The sequence file is expected to be a valid fasta file. \n",
    "    :param seq2name:       path to the second sequence. \n",
    "                           The sequence file is expected to be a valid fasta file. \n",
    "    :param cutoff:         the treshold defining whether a dot should be plotted\n",
    "    :param wordsize:       window size\n",
    "    :param isreversecompl: If True, then the function plots the sequence 1 against\n",
    "                           it's reverse complement. Default is False. Note if it is\n",
    "                           True, then seqname2 is ignored.  \n",
    "    '''\n",
    "    #scoring scheme\n",
    "    match_score = 1\n",
    "    mis_match_score = 0 \n",
    "\n",
    "    # read in the fasta files\n",
    "    for seq1obj in SeqIO.parse(seq1name, \"fasta\"):\n",
    "        print(seq1obj.id, \": \", seq1obj.seq)\n",
    "    \n",
    "    if not isreversecompl:\n",
    "        for seq2obj in SeqIO.parse(seq2name, \"fasta\"):\n",
    "            print(seq2obj.id, \": \", seq2obj.seq)\n",
    "\n",
    "    if isreversecompl: # make the reverse complement of the sequence to find stem loops\n",
    "        seq2obj=deepcopy(seq1obj)\n",
    "        seq2obj.seq=seq1obj.seq.reverse_complement()\n",
    "        seq2obj.id=seq1obj.id+' reverse complement'\n",
    "        print(seq2obj.id, \": \", seq2obj.seq)\n",
    "\n",
    "    seq1=seq1obj.seq.lower()\n",
    "    seq2=seq2obj.seq.lower()\n",
    "    nucleotide_list=('c', 'g', 't', 'a')\n",
    "    matrix=np.zeros((len(seq1), len(seq2)), dtype=int) # store the dots here\n",
    "    matrix2=np.zeros((len(seq1), len(seq2)), dtype=int) # store the match values here\n",
    "    for i in range(0,len(seq1)-wordsize+1):\n",
    "        for j in range(0, len(seq2)-wordsize+1):\n",
    "            score=0\n",
    "            for k in range(0, wordsize):\n",
    "                if seq1[i+k]==seq2[j+k] and seq1[i+k] in nucleotide_list and seq2[j+k] in nucleotide_list: # if there is a match and it is a nucleotide\n",
    "                    score+=match_score # simplest scoring scheme: match=+1 mismatch=0\n",
    "                else:\n",
    "                    score+=mis_match_score\n",
    "            if score >= cutoff:\n",
    "                matrix[i+int(wordsize/2),j+int(wordsize/2)]=1 # dot in the middle of the word if the score is not lower then the cut-off score\n",
    "            matrix2[i + int(wordsize / 2), j + int(wordsize / 2)] = score # store the scores\n",
    "\n",
    "    # visualization:\n",
    "    # dotplot itself\n",
    "    plt.figure(1)\n",
    "    plt.pcolor(matrix, cmap=plt.cm.binary)\n",
    "    plt.xlabel(seq2obj.id)\n",
    "    plt.ylabel(seq1obj.id)\n",
    "    plt.title('Dotplot: cut-off score= ' + str(cutoff) + ', world size=' + str(wordsize))\n",
    "    plt.colorbar()\n",
    "    #heatmap\n",
    "    plt.figure(2)\n",
    "    plt.pcolor(matrix2)\n",
    "    plt.xlabel(seq2obj.id)\n",
    "    plt.ylabel(seq1obj.id)\n",
    "    plt.title('Dotplot: cut-off score= ' + str(cutoff) + ', world size=' + str(wordsize))\n",
    "    plt.colorbar()\n",
    "\n",
    "    plt.show()\n",
    "\n",
    "\n",
    "        "
   ]
  },
  {
   "cell_type": "markdown",
   "metadata": {},
   "source": [
    "## Usage examples"
   ]
  },
  {
   "cell_type": "markdown",
   "metadata": {},
   "source": [
    "### DNA Sequence Dotplot Generation\n",
    "\n",
    "In this section, we analyze two DNA sequences by generating a dotplot, which is a graphical method used to compare two biological sequences and identify regions of similarity. \n",
    "\n",
    "#### Steps:\n",
    "1. **Downloading DNA Sequences from GitHub:**\n",
    "   - Similar to the previous section, we retrieve the DNA sequences **pract3_seq1.fasta** and **pract3_seq2.fasta** from a GitHub repository using Python's `requests` library.\n",
    "   - The files are downloaded and saved locally in the Colab environment.\n",
    "\n",
    "2. **Generating the Dotplot:**\n",
    "   - We use the `dotplot()` function to compare the two DNA sequences.\n",
    "   - The parameters used are:\n",
    "     - `cutoff=5`: Sets a threshold for matching subsequences.\n",
    "     - `wordsize=10`: Specifies the size of the words (k-mers) used for comparison.\n",
    "     - `isreversecompl=False`: Indicates that reverse complement comparison is not considered in this case.\n"
   ]
  },
  {
   "cell_type": "code",
   "execution_count": null,
   "metadata": {},
   "outputs": [],
   "source": [
    "# Download gene sequence 1 from GitHub\n",
    "gene_sequence_1_url = 'https://raw.githubusercontent.com/nbrg-ppcu/Introduction_to_bioinfo/dev/data/dot-hydro-plot/seq1.fasta'\n",
    "gene_sequence_1_file = 'seq1.fasta'\n",
    "\n",
    "response = requests.get(gene_sequence_1_url)\n",
    "with open(gene_sequence_1_file, 'wb') as file:\n",
    "    file.write(response.content)\n",
    "\n",
    "# Download gene sequence 2 from GitHub\n",
    "gene_sequence_2_url = 'https://raw.githubusercontent.com/nbrg-ppcu/Introduction_to_bioinfo/dev/data/dot-hydro-plot/seq2.fasta'\n",
    "gene_sequence_2_file = 'seq2.fasta'\n",
    "\n",
    "response = requests.get(gene_sequence_2_url)\n",
    "with open(gene_sequence_2_file, 'wb') as file:\n",
    "    file.write(response.content)\n",
    "\n"
   ]
  },
  {
   "cell_type": "code",
   "execution_count": null,
   "metadata": {},
   "outputs": [],
   "source": [
    "# Generate the dotplot\n",
    "dotplot(gene_sequence_1_file, gene_sequence_2_file, cutoff=5, wordsize=10, isreversecompl=False)\n"
   ]
  },
  {
   "cell_type": "markdown",
   "metadata": {},
   "source": [
    "### Other examples\n",
    "### Repeats in sequence 1"
   ]
  },
  {
   "cell_type": "code",
   "execution_count": null,
   "metadata": {},
   "outputs": [],
   "source": [
    "#repeats in sequence 1\n",
    "dotplot(gene_sequence_1_file, gene_sequence_1_file, cutoff=5, wordsize=10)"
   ]
  },
  {
   "cell_type": "markdown",
   "metadata": {},
   "source": [
    "### Stem loops in sequence 2"
   ]
  },
  {
   "cell_type": "code",
   "execution_count": null,
   "metadata": {},
   "outputs": [],
   "source": [
    "#stem loops in sequence 2\n",
    "dotplot(gene_sequence_2_file, None, cutoff=5, wordsize=10, isreversecompl=True)"
   ]
  },
  {
   "cell_type": "markdown",
   "metadata": {},
   "source": [
    "### Using the code provided above:\n",
    "  * you can run the program by calling the function \n",
    "    * the 5th parameter is TRUE if we search stem loops, FALSE otherwise (default is FALSE)\n",
    "    "
   ]
  },
  {
   "cell_type": "markdown",
   "metadata": {},
   "source": [
    "## Exercise: Using an online service for the same sequences:\n",
    "- http://www.bioinformatics.nl/cgi-bin/emboss/dotmatcher\n",
    "- upload the two sequences by clicking the Browse button\n",
    "- below you can change the parameters: window size, threshold (cut-off score)\n",
    "    - what do you see compared to the results of the Python code?"
   ]
  }
 ],
 "metadata": {
  "kernelspec": {
   "display_name": "Python 3",
   "language": "python",
   "name": "python3"
  },
  "language_info": {
   "codemirror_mode": {
    "name": "ipython",
    "version": 3
   },
   "file_extension": ".py",
   "mimetype": "text/x-python",
   "name": "python",
   "nbconvert_exporter": "python",
   "pygments_lexer": "ipython3",
   "version": "3.10.13"
  }
 },
 "nbformat": 4,
 "nbformat_minor": 4
}
